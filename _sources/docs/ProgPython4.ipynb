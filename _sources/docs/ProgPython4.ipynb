{
 "cells": [
  {
   "cell_type": "markdown",
   "metadata": {},
   "source": [
    "# Tuplos, conjuntos e dicionários"
   ]
  },
  {
   "cell_type": "markdown",
   "metadata": {
    "slideshow": {
     "slide_type": "slide"
    }
   },
   "source": [
    "\n",
    "\n",
    "## Objetivos de aprendizagem\n",
    "\n",
    "Com esta lição, continuamos a conhecer tipos de dados compostos.\n",
    "Em particular, para os tipos\n",
    "\n",
    "+ tuplos\n",
    "+ conjuntos\n",
    "+ dicionários\n",
    "\n",
    "saberemos como criar e usar objetos desses tipos e identificaremos alguns dos métodos definidos para cada um dos tipos de dados.\n",
    "\n",
    "Seremos também capazes de distinguir as propriedades mutabilidade e ordenação destes tipos de dados."
   ]
  },
  {
   "cell_type": "markdown",
   "metadata": {
    "slideshow": {
     "slide_type": "slide"
    }
   },
   "source": [
    "## Tuplos, conjuntos e dicionários\n",
    "\n",
    "### Enquadramento\n",
    "\n",
    "Já sabemos que se o valor que está associado a um objeto é sempre o mesmo, o tipo diz-se *imutável*; se existirem métodos para alterar o valor associado a um objeto então o tipo diz-se *mutável*.\n",
    "\n",
    "Dizemos que um tipo é ordenado quando a ordem dos items é significativa. Num tipo ordenado, a ordem de insersão é mantida.\n",
    "\n",
    "E sabemos que as strings e as listas têm algumas operações em comum, como indexação e corte. As strings são imutáveis e as listas são mutáveis.\n",
    "As strings e as listas (e range) são tipos de sequências. \n"
   ]
  },
  {
   "cell_type": "markdown",
   "metadata": {
    "slideshow": {
     "slide_type": "slide"
    }
   },
   "source": [
    "### Tuplos\n",
    "\n",
    "Os tuplos, tal como as listas, são um tipo de dados composto usado para agrupar outros valores. Este tipo de dados é também designado iterável ou sequencial. \n",
    "\n",
    "Um tuplo pode ser escrito como uma sequência de valores separados por vírgula e contidos entre parênteses **curvos**. E o tuplo é um tipo **imutável**."
   ]
  },
  {
   "cell_type": "markdown",
   "metadata": {
    "slideshow": {
     "slide_type": "subslide"
    }
   },
   "source": [
    "Por exemplo, "
   ]
  },
  {
   "cell_type": "code",
   "execution_count": null,
   "metadata": {
    "slideshow": {
     "slide_type": "-"
    }
   },
   "outputs": [],
   "source": [
    "t = 1, 2, 3, 4, 5;\n",
    "t"
   ]
  },
  {
   "cell_type": "code",
   "execution_count": null,
   "metadata": {
    "slideshow": {
     "slide_type": "-"
    }
   },
   "outputs": [],
   "source": [
    "t[2]"
   ]
  },
  {
   "cell_type": "markdown",
   "metadata": {
    "slideshow": {
     "slide_type": "-"
    }
   },
   "source": [
    "Se tentasse mudar um dos elementos fazendo \n",
    "\n",
    "    t[2] = 5\n",
    "    \n",
    "produziria erro. Isto acontece porque *t* é um tuplo"
   ]
  },
  {
   "cell_type": "code",
   "execution_count": null,
   "metadata": {},
   "outputs": [],
   "source": [
    "type(t)"
   ]
  },
  {
   "cell_type": "markdown",
   "metadata": {
    "slideshow": {
     "slide_type": "subslide"
    }
   },
   "source": [
    "Uma utilização muito conveniente dos tuplos é usada na troca do conteúdo das variáveis."
   ]
  },
  {
   "cell_type": "code",
   "execution_count": null,
   "metadata": {},
   "outputs": [],
   "source": [
    "x = 5\n",
    "y = 10\n",
    "y,x = x,y\n",
    "print('x =',x,'e y =', y)\n"
   ]
  },
  {
   "cell_type": "markdown",
   "metadata": {
    "slideshow": {
     "slide_type": "-"
    }
   },
   "source": [
    "E não foi preciso uma variável auxiliar. \n",
    "Se se pretender que uma função devolva dois (ou mais) valores, podemos usar tuplos como fizemos na função *maior_onde* dos exemplos da anterior secção, aqui repetida."
   ]
  },
  {
   "cell_type": "code",
   "execution_count": null,
   "metadata": {
    "slideshow": {
     "slide_type": "subslide"
    }
   },
   "outputs": [],
   "source": [
    "# A minha lista de teste\n",
    "tt_lista = [2, 5, 7, 1, 4, -16]"
   ]
  },
  {
   "cell_type": "code",
   "execution_count": null,
   "metadata": {},
   "outputs": [],
   "source": [
    "# A minha função que devolve dois valores\n",
    "def maior_onde(t):\n",
    "    \"\"\"Função que devolve o maior valor de uma lista e o seu índice.\"\"\"\n",
    "    v = list.copy(t)\n",
    "    v.sort()\n",
    "    maior = v[-1]\n",
    "    onde = t.index(maior)\n",
    "    return maior, onde"
   ]
  },
  {
   "cell_type": "code",
   "execution_count": null,
   "metadata": {},
   "outputs": [],
   "source": [
    "# ao aplicar a função à minha lista de teste, crio um tuplo\n",
    "maior_onde(tt_lista)\n",
    "    "
   ]
  },
  {
   "cell_type": "code",
   "execution_count": null,
   "metadata": {},
   "outputs": [],
   "source": [
    "x, y = maior_onde(tt_lista)\n",
    "print ('x =', x ,' y =', y)"
   ]
  },
  {
   "cell_type": "markdown",
   "metadata": {},
   "source": [
    "Para dois valores, podemos atribuir os elementos do tuplo a variáveis. Mas podemos lidar diretamente com o tuplo desta forma"
   ]
  },
  {
   "cell_type": "code",
   "execution_count": null,
   "metadata": {},
   "outputs": [],
   "source": [
    "resultado = maior_onde(tt_lista)\n",
    "type(resultado)"
   ]
  },
  {
   "cell_type": "code",
   "execution_count": null,
   "metadata": {},
   "outputs": [],
   "source": [
    "print('O maior elemento é o {0:d} e está na posição {1:d}'.format(resultado[0], resultado[1]))"
   ]
  },
  {
   "cell_type": "markdown",
   "metadata": {},
   "source": [
    "Para criar um tuplo, basta-me uma vírgula ou parênteses curvos"
   ]
  },
  {
   "cell_type": "code",
   "execution_count": null,
   "metadata": {},
   "outputs": [],
   "source": [
    "ex1_tuplo = 8,\n",
    "ex2_tuplo = ()"
   ]
  },
  {
   "cell_type": "code",
   "execution_count": null,
   "metadata": {},
   "outputs": [],
   "source": [
    "type(ex1_tuplo)"
   ]
  },
  {
   "cell_type": "markdown",
   "metadata": {},
   "source": [
    "Podemos saber quantos elementos temos num tuplo"
   ]
  },
  {
   "cell_type": "code",
   "execution_count": null,
   "metadata": {},
   "outputs": [],
   "source": [
    "len(resultado), len(ex1_tuplo), len(ex2_tuplo)"
   ]
  },
  {
   "cell_type": "markdown",
   "metadata": {
    "slideshow": {
     "slide_type": "slide"
    }
   },
   "source": [
    "### Conjuntos\n",
    "\n",
    "Python também inclui um tipo de dados para conjuntos. Um conjunto em Python é entendido como uma coleção não ordenada sem elementos duplicados. Tipicamente os conjuntos são usados para verificar pertença, eliminar elementos repetidos, sendo também usados para apoiar operações matemáticas como união, interseção e diferença.  \n"
   ]
  },
  {
   "cell_type": "code",
   "execution_count": null,
   "metadata": {
    "slideshow": {
     "slide_type": "-"
    }
   },
   "outputs": [],
   "source": [
    "# Inicialização com enumeração\n",
    "vogais = {'a', 'e', 'i', 'o', 'u'}\n",
    "semi_vogais = {'w', 'y'} # em inglês"
   ]
  },
  {
   "cell_type": "markdown",
   "metadata": {},
   "source": [
    "Com *chr* obtemos a string (com um elemento, um carater) correspondente ao código Unicode. A operação inversa é *ord*, para obter o código Unicode de um carater."
   ]
  },
  {
   "cell_type": "code",
   "execution_count": 1,
   "metadata": {
    "slideshow": {
     "slide_type": "-"
    }
   },
   "outputs": [
    {
     "name": "stdout",
     "output_type": "stream",
     "text": [
      "{'f', 'q', 'i', 'w', 'h', 't', 'y', 'a', 'e', 'x', 'n', 'k', 's', 'd', 'b', 'z', 'p', 'l', 'g', 'v', 'j', 'r', 'u', 'c', 'm', 'o'}\n"
     ]
    }
   ],
   "source": [
    "# Forma alternativa de inicialização \n",
    "letras = {chr(i) for i in range(97,97+26)}\n",
    "print(letras, sep=' ')"
   ]
  },
  {
   "cell_type": "code",
   "execution_count": null,
   "metadata": {
    "slideshow": {
     "slide_type": "-"
    }
   },
   "outputs": [],
   "source": [
    "consoantes = set() # Inicialização de um conjunto vazio, desnecessário no caso presente\n",
    "consoantes = letras - vogais - semi_vogais\n",
    "print(consoantes)"
   ]
  },
  {
   "cell_type": "markdown",
   "metadata": {
    "slideshow": {
     "slide_type": "subslide"
    }
   },
   "source": [
    "#### Operações sobre conjuntos"
   ]
  },
  {
   "cell_type": "code",
   "execution_count": 2,
   "metadata": {
    "slideshow": {
     "slide_type": "-"
    }
   },
   "outputs": [
    {
     "data": {
      "text/plain": [
       "set"
      ]
     },
     "execution_count": 2,
     "metadata": {},
     "output_type": "execute_result"
    }
   ],
   "source": [
    "# Criar um conjunto vazio\n",
    "numeros = set()\n",
    "# Verificar o tipo\n",
    "type(numeros)"
   ]
  },
  {
   "cell_type": "code",
   "execution_count": 3,
   "metadata": {
    "slideshow": {
     "slide_type": "-"
    }
   },
   "outputs": [],
   "source": [
    "numeros_ate_50 = {x for x in range(50)}\n",
    "\n",
    "pares_ate_50 = {x for x in numeros_ate_50 if (x%2 == 0) }\n",
    "\n",
    "multiplos_3_ate_50 = {x for x in numeros_ate_50 if (x%3 == 0) }\n",
    "\n",
    "multiplos_5_ate_50 = {x for x in numeros_ate_50 if (x%5 == 0) }\n",
    "\n",
    "multiplos_7_ate_50 = {x for x in numeros_ate_50 if (x%7 == 0) }"
   ]
  },
  {
   "cell_type": "code",
   "execution_count": null,
   "metadata": {
    "slideshow": {
     "slide_type": "-"
    }
   },
   "outputs": [],
   "source": [
    "# Multiplos de 5 que não são pares\n",
    "multiplos_5_ate_50 - pares_ate_50                  # a e não b"
   ]
  },
  {
   "cell_type": "code",
   "execution_count": null,
   "metadata": {
    "slideshow": {
     "slide_type": "subslide"
    }
   },
   "outputs": [],
   "source": [
    "# Reunião\n",
    "multiplos = pares_ate_50 | multiplos_3_ate_50 | \\\n",
    "            multiplos_5_ate_50 | multiplos_7_ate_50"
   ]
  },
  {
   "cell_type": "code",
   "execution_count": null,
   "metadata": {},
   "outputs": [],
   "source": [
    "primeiros_primos = numeros_ate_50 - multiplos\n",
    "print(primeiros_primos, sep = ' ')"
   ]
  },
  {
   "cell_type": "code",
   "execution_count": null,
   "metadata": {},
   "outputs": [],
   "source": [
    "# As letras comuns\n",
    "a = set('bioengenharia')\n",
    "b = set('matemática')\n",
    "a & b                              # a e b"
   ]
  },
  {
   "cell_type": "code",
   "execution_count": null,
   "metadata": {},
   "outputs": [],
   "source": [
    "# as letras que existindo numa palavra não existem na outra\n",
    "a ^ b                              # a ou exclusivo b"
   ]
  },
  {
   "cell_type": "markdown",
   "metadata": {
    "slideshow": {
     "slide_type": "slide"
    }
   },
   "source": [
    "### Dicionários\n",
    "\n",
    "A melhor forma de entender os dicionários é talvez como um conjunto não ordenado de pares chave:valor ( *key: value*). \n",
    "Notacionalmente, usam-se chavetas para representar dicionários.\n",
    "\n",
    "A chave pode ser de qualquer tipo imutável, como strings ou inteiros. O valor pode ser de qualquer tipo.\n",
    "\n",
    "Para sabermos se uma chave existe no dicionário, usamos **in**.\n"
   ]
  },
  {
   "cell_type": "code",
   "execution_count": null,
   "metadata": {},
   "outputs": [],
   "source": [
    "telefone = {'UAlg': 289800100, 'FCT': 289800953, 'FE': 289800915 }\n",
    "telefone"
   ]
  },
  {
   "cell_type": "code",
   "execution_count": null,
   "metadata": {
    "slideshow": {
     "slide_type": "subslide"
    }
   },
   "outputs": [],
   "source": [
    "telefone['UAlg']"
   ]
  },
  {
   "cell_type": "code",
   "execution_count": null,
   "metadata": {},
   "outputs": [],
   "source": [
    "# Eliminar um elemento\n",
    "del telefone['FE']"
   ]
  },
  {
   "cell_type": "code",
   "execution_count": null,
   "metadata": {},
   "outputs": [],
   "source": [
    "telefone"
   ]
  },
  {
   "cell_type": "code",
   "execution_count": null,
   "metadata": {},
   "outputs": [],
   "source": [
    "# Alterar o valor\n",
    "telefone['UAlg'] = 289800900"
   ]
  },
  {
   "cell_type": "code",
   "execution_count": null,
   "metadata": {},
   "outputs": [],
   "source": [
    "# Adicionar um elemento\n",
    "telefone['FE'] = 289800915"
   ]
  },
  {
   "cell_type": "code",
   "execution_count": null,
   "metadata": {
    "slideshow": {
     "slide_type": "subslide"
    }
   },
   "outputs": [],
   "source": [
    "list(telefone.keys())"
   ]
  },
  {
   "cell_type": "code",
   "execution_count": null,
   "metadata": {
    "slideshow": {
     "slide_type": "-"
    }
   },
   "outputs": [],
   "source": [
    "list(telefone.values())"
   ]
  },
  {
   "cell_type": "code",
   "execution_count": null,
   "metadata": {},
   "outputs": [],
   "source": [
    "'UAlg' in telefone.keys()"
   ]
  },
  {
   "cell_type": "code",
   "execution_count": null,
   "metadata": {
    "slideshow": {
     "slide_type": "subslide"
    }
   },
   "outputs": [],
   "source": [
    "'FCT' not in telefone.keys()"
   ]
  },
  {
   "cell_type": "code",
   "execution_count": null,
   "metadata": {
    "slideshow": {
     "slide_type": "-"
    }
   },
   "outputs": [],
   "source": [
    "# Percorrer o dicionário\n",
    "for k, v in telefone.items():\n",
    "    print('O número da {0:s} é {1:d}'.format(k,v))"
   ]
  },
  {
   "cell_type": "markdown",
   "metadata": {
    "slideshow": {
     "slide_type": "slide"
    }
   },
   "source": [
    "### Leitura recomendada\n",
    "\n",
    "Recomenda-se a consulta do tutorial sobre [Estruturas de dados](https://docs.python.org/pt-br/3.8/tutorial/datastructures.html), em particular:\n",
    "\n",
    "+ revisão de [listas](https://docs.python.org/pt-br/3.8/tutorial/datastructures.html#more-on-lists)\n",
    "+ [tuplos](https://docs.python.org/pt-br/3.8/tutorial/datastructures.html#tuples-and-sequences)\n",
    "+ [conjuntos](https://docs.python.org/pt-br/3.8/tutorial/datastructures.html#sets)\n",
    "+ [dicionários](https://docs.python.org/pt-br/3.8/tutorial/datastructures.html#dictionaries)\n"
   ]
  },
  {
   "cell_type": "markdown",
   "metadata": {},
   "source": [
    "## Resumo\n",
    "\n",
    "A classificação dos tipos de dados quanto à mutabilidade e à ordenação oferece uma forma de distinguir os diferentes tipos de dados compostos.\n",
    "\n",
    "| Tipo | Mutável | Ordenado |\n",
    "| ---- | ------- | -------- |\n",
    "| Listas | Sim | Sim |\n",
    "| Tuplos | Não | Sim |\n",
    "| Conjuntos | Sim | Não |\n",
    "| Dicionários | Sim | Não | \n",
    "\n",
    "\n"
   ]
  },
  {
   "cell_type": "markdown",
   "metadata": {},
   "source": []
  }
 ],
 "metadata": {
  "celltoolbar": "Slideshow",
  "kernelspec": {
   "display_name": "Python 3.9.2 ('IPC-2021')",
   "language": "python",
   "name": "python3"
  },
  "language_info": {
   "codemirror_mode": {
    "name": "ipython",
    "version": 3
   },
   "file_extension": ".py",
   "mimetype": "text/x-python",
   "name": "python",
   "nbconvert_exporter": "python",
   "pygments_lexer": "ipython3",
   "version": "3.9.2"
  },
  "vscode": {
   "interpreter": {
    "hash": "9ddeaa86c29e9638be5ab6a311e6804f35ff6acc891c5fdf04f4904ed15ff124"
   }
  }
 },
 "nbformat": 4,
 "nbformat_minor": 1
}
